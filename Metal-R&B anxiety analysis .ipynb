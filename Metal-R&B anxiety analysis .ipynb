{
 "cells": [
  {
   "cell_type": "code",
   "execution_count": 2,
   "id": "0d7b6d28",
   "metadata": {},
   "outputs": [],
   "source": [
    "import pandas as pd\n",
    "import numpy as np\n",
    "import seaborn as sns"
   ]
  },
  {
   "cell_type": "code",
   "execution_count": 3,
   "id": "d44ffae2",
   "metadata": {},
   "outputs": [
    {
     "data": {
      "text/html": [
       "<div>\n",
       "<style scoped>\n",
       "    .dataframe tbody tr th:only-of-type {\n",
       "        vertical-align: middle;\n",
       "    }\n",
       "\n",
       "    .dataframe tbody tr th {\n",
       "        vertical-align: top;\n",
       "    }\n",
       "\n",
       "    .dataframe thead th {\n",
       "        text-align: right;\n",
       "    }\n",
       "</style>\n",
       "<table border=\"1\" class=\"dataframe\">\n",
       "  <thead>\n",
       "    <tr style=\"text-align: right;\">\n",
       "      <th></th>\n",
       "      <th>Timestamp</th>\n",
       "      <th>Age</th>\n",
       "      <th>Primary streaming service</th>\n",
       "      <th>Hours per day</th>\n",
       "      <th>While working</th>\n",
       "      <th>Instrumentalist</th>\n",
       "      <th>Composer</th>\n",
       "      <th>Fav genre</th>\n",
       "      <th>Exploratory</th>\n",
       "      <th>Foreign languages</th>\n",
       "      <th>...</th>\n",
       "      <th>Frequency [R&amp;B]</th>\n",
       "      <th>Frequency [Rap]</th>\n",
       "      <th>Frequency [Rock]</th>\n",
       "      <th>Frequency [Video game music]</th>\n",
       "      <th>Anxiety</th>\n",
       "      <th>Depression</th>\n",
       "      <th>Insomnia</th>\n",
       "      <th>OCD</th>\n",
       "      <th>Music effects</th>\n",
       "      <th>Permissions</th>\n",
       "    </tr>\n",
       "  </thead>\n",
       "  <tbody>\n",
       "    <tr>\n",
       "      <th>0</th>\n",
       "      <td>8/27/2022 19:29:02</td>\n",
       "      <td>18.0</td>\n",
       "      <td>Spotify</td>\n",
       "      <td>3.0</td>\n",
       "      <td>Yes</td>\n",
       "      <td>Yes</td>\n",
       "      <td>Yes</td>\n",
       "      <td>Latin</td>\n",
       "      <td>Yes</td>\n",
       "      <td>Yes</td>\n",
       "      <td>...</td>\n",
       "      <td>Sometimes</td>\n",
       "      <td>Very frequently</td>\n",
       "      <td>Never</td>\n",
       "      <td>Sometimes</td>\n",
       "      <td>3.0</td>\n",
       "      <td>0.0</td>\n",
       "      <td>1.0</td>\n",
       "      <td>0.0</td>\n",
       "      <td>NaN</td>\n",
       "      <td>I understand.</td>\n",
       "    </tr>\n",
       "    <tr>\n",
       "      <th>1</th>\n",
       "      <td>8/27/2022 19:57:31</td>\n",
       "      <td>63.0</td>\n",
       "      <td>Pandora</td>\n",
       "      <td>1.5</td>\n",
       "      <td>Yes</td>\n",
       "      <td>No</td>\n",
       "      <td>No</td>\n",
       "      <td>Rock</td>\n",
       "      <td>Yes</td>\n",
       "      <td>No</td>\n",
       "      <td>...</td>\n",
       "      <td>Sometimes</td>\n",
       "      <td>Rarely</td>\n",
       "      <td>Very frequently</td>\n",
       "      <td>Rarely</td>\n",
       "      <td>7.0</td>\n",
       "      <td>2.0</td>\n",
       "      <td>2.0</td>\n",
       "      <td>1.0</td>\n",
       "      <td>NaN</td>\n",
       "      <td>I understand.</td>\n",
       "    </tr>\n",
       "    <tr>\n",
       "      <th>2</th>\n",
       "      <td>8/27/2022 21:28:18</td>\n",
       "      <td>18.0</td>\n",
       "      <td>Spotify</td>\n",
       "      <td>4.0</td>\n",
       "      <td>No</td>\n",
       "      <td>No</td>\n",
       "      <td>No</td>\n",
       "      <td>Video game music</td>\n",
       "      <td>No</td>\n",
       "      <td>Yes</td>\n",
       "      <td>...</td>\n",
       "      <td>Never</td>\n",
       "      <td>Rarely</td>\n",
       "      <td>Rarely</td>\n",
       "      <td>Very frequently</td>\n",
       "      <td>7.0</td>\n",
       "      <td>7.0</td>\n",
       "      <td>10.0</td>\n",
       "      <td>2.0</td>\n",
       "      <td>No effect</td>\n",
       "      <td>I understand.</td>\n",
       "    </tr>\n",
       "    <tr>\n",
       "      <th>3</th>\n",
       "      <td>8/27/2022 21:40:40</td>\n",
       "      <td>61.0</td>\n",
       "      <td>YouTube Music</td>\n",
       "      <td>2.5</td>\n",
       "      <td>Yes</td>\n",
       "      <td>No</td>\n",
       "      <td>Yes</td>\n",
       "      <td>Jazz</td>\n",
       "      <td>Yes</td>\n",
       "      <td>Yes</td>\n",
       "      <td>...</td>\n",
       "      <td>Sometimes</td>\n",
       "      <td>Never</td>\n",
       "      <td>Never</td>\n",
       "      <td>Never</td>\n",
       "      <td>9.0</td>\n",
       "      <td>7.0</td>\n",
       "      <td>3.0</td>\n",
       "      <td>3.0</td>\n",
       "      <td>Improve</td>\n",
       "      <td>I understand.</td>\n",
       "    </tr>\n",
       "    <tr>\n",
       "      <th>4</th>\n",
       "      <td>8/27/2022 21:54:47</td>\n",
       "      <td>18.0</td>\n",
       "      <td>Spotify</td>\n",
       "      <td>4.0</td>\n",
       "      <td>Yes</td>\n",
       "      <td>No</td>\n",
       "      <td>No</td>\n",
       "      <td>R&amp;B</td>\n",
       "      <td>Yes</td>\n",
       "      <td>No</td>\n",
       "      <td>...</td>\n",
       "      <td>Very frequently</td>\n",
       "      <td>Very frequently</td>\n",
       "      <td>Never</td>\n",
       "      <td>Rarely</td>\n",
       "      <td>7.0</td>\n",
       "      <td>2.0</td>\n",
       "      <td>5.0</td>\n",
       "      <td>9.0</td>\n",
       "      <td>Improve</td>\n",
       "      <td>I understand.</td>\n",
       "    </tr>\n",
       "  </tbody>\n",
       "</table>\n",
       "<p>5 rows × 33 columns</p>\n",
       "</div>"
      ],
      "text/plain": [
       "            Timestamp   Age Primary streaming service  Hours per day  \\\n",
       "0  8/27/2022 19:29:02  18.0                   Spotify            3.0   \n",
       "1  8/27/2022 19:57:31  63.0                   Pandora            1.5   \n",
       "2  8/27/2022 21:28:18  18.0                   Spotify            4.0   \n",
       "3  8/27/2022 21:40:40  61.0             YouTube Music            2.5   \n",
       "4  8/27/2022 21:54:47  18.0                   Spotify            4.0   \n",
       "\n",
       "  While working Instrumentalist Composer         Fav genre Exploratory  \\\n",
       "0           Yes             Yes      Yes             Latin         Yes   \n",
       "1           Yes              No       No              Rock         Yes   \n",
       "2            No              No       No  Video game music          No   \n",
       "3           Yes              No      Yes              Jazz         Yes   \n",
       "4           Yes              No       No               R&B         Yes   \n",
       "\n",
       "  Foreign languages  ...  Frequency [R&B]  Frequency [Rap] Frequency [Rock]  \\\n",
       "0               Yes  ...        Sometimes  Very frequently            Never   \n",
       "1                No  ...        Sometimes           Rarely  Very frequently   \n",
       "2               Yes  ...            Never           Rarely           Rarely   \n",
       "3               Yes  ...        Sometimes            Never            Never   \n",
       "4                No  ...  Very frequently  Very frequently            Never   \n",
       "\n",
       "  Frequency [Video game music] Anxiety Depression Insomnia  OCD Music effects  \\\n",
       "0                    Sometimes     3.0        0.0      1.0  0.0           NaN   \n",
       "1                       Rarely     7.0        2.0      2.0  1.0           NaN   \n",
       "2              Very frequently     7.0        7.0     10.0  2.0     No effect   \n",
       "3                        Never     9.0        7.0      3.0  3.0       Improve   \n",
       "4                       Rarely     7.0        2.0      5.0  9.0       Improve   \n",
       "\n",
       "     Permissions  \n",
       "0  I understand.  \n",
       "1  I understand.  \n",
       "2  I understand.  \n",
       "3  I understand.  \n",
       "4  I understand.  \n",
       "\n",
       "[5 rows x 33 columns]"
      ]
     },
     "execution_count": 3,
     "metadata": {},
     "output_type": "execute_result"
    }
   ],
   "source": [
    "dados = pd.read_csv('mxmh_survey_results.csv')\n",
    "dados.head()"
   ]
  },
  {
   "cell_type": "code",
   "execution_count": 4,
   "id": "15691284",
   "metadata": {},
   "outputs": [
    {
     "data": {
      "text/plain": [
       "Index(['Timestamp', 'Age', 'Primary streaming service', 'Hours per day',\n",
       "       'While working', 'Instrumentalist', 'Composer', 'Fav genre',\n",
       "       'Exploratory', 'Foreign languages', 'BPM', 'Frequency [Classical]',\n",
       "       'Frequency [Country]', 'Frequency [EDM]', 'Frequency [Folk]',\n",
       "       'Frequency [Gospel]', 'Frequency [Hip hop]', 'Frequency [Jazz]',\n",
       "       'Frequency [K pop]', 'Frequency [Latin]', 'Frequency [Lofi]',\n",
       "       'Frequency [Metal]', 'Frequency [Pop]', 'Frequency [R&B]',\n",
       "       'Frequency [Rap]', 'Frequency [Rock]', 'Frequency [Video game music]',\n",
       "       'Anxiety', 'Depression', 'Insomnia', 'OCD', 'Music effects',\n",
       "       'Permissions'],\n",
       "      dtype='object')"
      ]
     },
     "execution_count": 4,
     "metadata": {},
     "output_type": "execute_result"
    }
   ],
   "source": [
    "dados.columns"
   ]
  },
  {
   "cell_type": "code",
   "execution_count": 36,
   "id": "a22f4b68",
   "metadata": {},
   "outputs": [
    {
     "data": {
      "text/html": [
       "<div>\n",
       "<style scoped>\n",
       "    .dataframe tbody tr th:only-of-type {\n",
       "        vertical-align: middle;\n",
       "    }\n",
       "\n",
       "    .dataframe tbody tr th {\n",
       "        vertical-align: top;\n",
       "    }\n",
       "\n",
       "    .dataframe thead th {\n",
       "        text-align: right;\n",
       "    }\n",
       "</style>\n",
       "<table border=\"1\" class=\"dataframe\">\n",
       "  <thead>\n",
       "    <tr style=\"text-align: right;\">\n",
       "      <th></th>\n",
       "      <th>Age</th>\n",
       "      <th>Hours per day</th>\n",
       "      <th>Frequency [R&amp;B]</th>\n",
       "      <th>Frequency [Metal]</th>\n",
       "      <th>Anxiety</th>\n",
       "      <th>Music effects</th>\n",
       "    </tr>\n",
       "  </thead>\n",
       "  <tbody>\n",
       "    <tr>\n",
       "      <th>2</th>\n",
       "      <td>18.0</td>\n",
       "      <td>4.0</td>\n",
       "      <td>Never</td>\n",
       "      <td>Sometimes</td>\n",
       "      <td>7.0</td>\n",
       "      <td>No effect</td>\n",
       "    </tr>\n",
       "    <tr>\n",
       "      <th>3</th>\n",
       "      <td>61.0</td>\n",
       "      <td>2.5</td>\n",
       "      <td>Sometimes</td>\n",
       "      <td>Never</td>\n",
       "      <td>9.0</td>\n",
       "      <td>Improve</td>\n",
       "    </tr>\n",
       "    <tr>\n",
       "      <th>4</th>\n",
       "      <td>18.0</td>\n",
       "      <td>4.0</td>\n",
       "      <td>Very frequently</td>\n",
       "      <td>Never</td>\n",
       "      <td>7.0</td>\n",
       "      <td>Improve</td>\n",
       "    </tr>\n",
       "    <tr>\n",
       "      <th>5</th>\n",
       "      <td>18.0</td>\n",
       "      <td>5.0</td>\n",
       "      <td>Very frequently</td>\n",
       "      <td>Rarely</td>\n",
       "      <td>8.0</td>\n",
       "      <td>Improve</td>\n",
       "    </tr>\n",
       "    <tr>\n",
       "      <th>6</th>\n",
       "      <td>18.0</td>\n",
       "      <td>3.0</td>\n",
       "      <td>Rarely</td>\n",
       "      <td>Rarely</td>\n",
       "      <td>4.0</td>\n",
       "      <td>Improve</td>\n",
       "    </tr>\n",
       "    <tr>\n",
       "      <th>...</th>\n",
       "      <td>...</td>\n",
       "      <td>...</td>\n",
       "      <td>...</td>\n",
       "      <td>...</td>\n",
       "      <td>...</td>\n",
       "      <td>...</td>\n",
       "    </tr>\n",
       "    <tr>\n",
       "      <th>731</th>\n",
       "      <td>17.0</td>\n",
       "      <td>2.0</td>\n",
       "      <td>Never</td>\n",
       "      <td>Rarely</td>\n",
       "      <td>7.0</td>\n",
       "      <td>Improve</td>\n",
       "    </tr>\n",
       "    <tr>\n",
       "      <th>732</th>\n",
       "      <td>18.0</td>\n",
       "      <td>1.0</td>\n",
       "      <td>Never</td>\n",
       "      <td>Never</td>\n",
       "      <td>3.0</td>\n",
       "      <td>Improve</td>\n",
       "    </tr>\n",
       "    <tr>\n",
       "      <th>733</th>\n",
       "      <td>19.0</td>\n",
       "      <td>6.0</td>\n",
       "      <td>Sometimes</td>\n",
       "      <td>Rarely</td>\n",
       "      <td>2.0</td>\n",
       "      <td>Improve</td>\n",
       "    </tr>\n",
       "    <tr>\n",
       "      <th>734</th>\n",
       "      <td>19.0</td>\n",
       "      <td>5.0</td>\n",
       "      <td>Never</td>\n",
       "      <td>Never</td>\n",
       "      <td>2.0</td>\n",
       "      <td>Improve</td>\n",
       "    </tr>\n",
       "    <tr>\n",
       "      <th>735</th>\n",
       "      <td>29.0</td>\n",
       "      <td>2.0</td>\n",
       "      <td>Very frequently</td>\n",
       "      <td>Never</td>\n",
       "      <td>2.0</td>\n",
       "      <td>Improve</td>\n",
       "    </tr>\n",
       "  </tbody>\n",
       "</table>\n",
       "<p>728 rows × 6 columns</p>\n",
       "</div>"
      ],
      "text/plain": [
       "      Age  Hours per day  Frequency [R&B] Frequency [Metal]  Anxiety  \\\n",
       "2    18.0            4.0            Never         Sometimes      7.0   \n",
       "3    61.0            2.5        Sometimes             Never      9.0   \n",
       "4    18.0            4.0  Very frequently             Never      7.0   \n",
       "5    18.0            5.0  Very frequently            Rarely      8.0   \n",
       "6    18.0            3.0           Rarely            Rarely      4.0   \n",
       "..    ...            ...              ...               ...      ...   \n",
       "731  17.0            2.0            Never            Rarely      7.0   \n",
       "732  18.0            1.0            Never             Never      3.0   \n",
       "733  19.0            6.0        Sometimes            Rarely      2.0   \n",
       "734  19.0            5.0            Never             Never      2.0   \n",
       "735  29.0            2.0  Very frequently             Never      2.0   \n",
       "\n",
       "    Music effects  \n",
       "2       No effect  \n",
       "3         Improve  \n",
       "4         Improve  \n",
       "5         Improve  \n",
       "6         Improve  \n",
       "..            ...  \n",
       "731       Improve  \n",
       "732       Improve  \n",
       "733       Improve  \n",
       "734       Improve  \n",
       "735       Improve  \n",
       "\n",
       "[728 rows x 6 columns]"
      ]
     },
     "execution_count": 36,
     "metadata": {},
     "output_type": "execute_result"
    }
   ],
   "source": [
    "dados_clean = dados[['Age', 'Hours per day', 'Frequency [R&B]', 'Frequency [Metal]', 'Anxiety', 'Music effects' ]].dropna(subset=['Music effects'])\n",
    "dados_clean"
   ]
  },
  {
   "cell_type": "code",
   "execution_count": 37,
   "id": "9b8b13c1",
   "metadata": {},
   "outputs": [
    {
     "data": {
      "text/plain": [
       "<seaborn.axisgrid.FacetGrid at 0x12a8153a0>"
      ]
     },
     "execution_count": 37,
     "metadata": {},
     "output_type": "execute_result"
    },
    {
     "data": {
      "image/png": "[encoded data removed]",
      "text/plain": [
       "<Figure size 360x360 with 1 Axes>"
      ]
     },
     "metadata": {
      "needs_background": "light"
     },
     "output_type": "display_data"
    }
   ],
   "source": [
    "sns.relplot(x='Frequency [R&B]', y='Anxiety', kind='line', data=dados_clean) "
   ]
  },
  {
   "cell_type": "code",
   "execution_count": 38,
   "id": "e2453c70",
   "metadata": {},
   "outputs": [
    {
     "data": {
      "text/plain": [
       "<seaborn.axisgrid.FacetGrid at 0x12aa34370>"
      ]
     },
     "execution_count": 38,
     "metadata": {},
     "output_type": "execute_result"
    },
    {
     "data": {
      "image/png": "[encoded data removed]",
      "text/plain": [
       "<Figure size 360x360 with 1 Axes>"
      ]
     },
     "metadata": {
      "needs_background": "light"
     },
     "output_type": "display_data"
    }
   ],
   "source": [
    "sns.relplot(x='Frequency [Metal]', y='Anxiety', kind='line', data=dados_clean)"
   ]
  },
  {
   "cell_type": "code",
   "execution_count": 40,
   "id": "79636644",
   "metadata": {},
   "outputs": [
    {
     "data": {
      "text/plain": [
       "<seaborn.axisgrid.FacetGrid at 0x12aafeb50>"
      ]
     },
     "execution_count": 40,
     "metadata": {},
     "output_type": "execute_result"
    },
    {
     "data": {
      "image/png": "[encoded data removed]",
      "text/plain": [
       "<Figure size 461.875x360 with 1 Axes>"
      ]
     },
     "metadata": {
      "needs_background": "light"
     },
     "output_type": "display_data"
    }
   ],
   "source": [
    "sns.relplot(x='Frequency [R&B]', y='Anxiety', hue = 'Music effects', data = dados_clean)"
   ]
  },
  {
   "cell_type": "code",
   "execution_count": 54,
   "id": "6181c864",
   "metadata": {},
   "outputs": [
    {
     "data": {
      "text/plain": [
       "<seaborn.axisgrid.FacetGrid at 0x12bca3340>"
      ]
     },
     "execution_count": 54,
     "metadata": {},
     "output_type": "execute_result"
    },
    {
     "data": {
      "image/png": "[encoded data removed]",
      "text/plain": [
       "<Figure size 461.875x360 with 1 Axes>"
      ]
     },
     "metadata": {
      "needs_background": "light"
     },
     "output_type": "display_data"
    }
   ],
   "source": [
    "sns.relplot(x='Frequency [Metal]', y='Anxiety', hue = 'Music effects', data=dados_clean)"
   ]
  },
  {
   "cell_type": "code",
   "execution_count": 51,
   "id": "895624fd",
   "metadata": {},
   "outputs": [
    {
     "data": {
      "text/plain": [
       "<AxesSubplot:xlabel='Frequency [R&B]', ylabel='Anxiety'>"
      ]
     },
     "execution_count": 51,
     "metadata": {},
     "output_type": "execute_result"
    },
    {
     "data": {
      "image/png": "[encoded data removed]",
      "text/plain": [
       "<Figure size 432x288 with 1 Axes>"
      ]
     },
     "metadata": {
      "needs_background": "light"
     },
     "output_type": "display_data"
    }
   ],
   "source": [
    "sns.boxplot(x='Frequency [R&B]', y='Anxiety', order=[\n",
    "                 'Never', 'Rarely', 'Sometimes', 'Very frequently'], hue='Music effects',  data=dados_clean)"
   ]
  },
  {
   "cell_type": "code",
   "execution_count": 52,
   "id": "2e2422e3",
   "metadata": {},
   "outputs": [
    {
     "data": {
      "text/plain": [
       "<AxesSubplot:xlabel='Frequency [Metal]', ylabel='Anxiety'>"
      ]
     },
     "execution_count": 52,
     "metadata": {},
     "output_type": "execute_result"
    },
    {
     "data": {
      "image/png": "[encoded data removed]",
      "text/plain": [
       "<Figure size 432x288 with 1 Axes>"
      ]
     },
     "metadata": {
      "needs_background": "light"
     },
     "output_type": "display_data"
    }
   ],
   "source": [
    "sns.boxplot(x='Frequency [Metal]', y='Anxiety', order=[\n",
    "                 'Never', 'Rarely', 'Sometimes', 'Very frequently'], hue='Music effects', data=dados_clean)"
   ]
  },
  {
   "cell_type": "markdown",
   "id": "ac09a726",
   "metadata": {},
   "source": [
    "Observando os ouvintes mais frequentes de cada gênero (''Sometimes'' e ''Very Frequently'') e os casos onde a música ajuda ou piora no estado mental (''Improve'' e ''Worsen''), pode-se observar que os que preferem o gênero mais calmo (R&B) tem também uma mediana menor na escala de ansiedade em comparação com os que preferem o gênero mais enérgico (Metal).  "
   ]
  },
  {
   "cell_type": "code",
   "execution_count": null,
   "id": "de4a9801",
   "metadata": {},
   "outputs": [],
   "source": []
  },
  {
   "cell_type": "code",
   "execution_count": null,
   "id": "8d15bbeb",
   "metadata": {},
   "outputs": [],
   "source": []
  }
 ],
 "metadata": {
  "kernelspec": {
   "display_name": "Python 3 (ipykernel)",
   "language": "python",
   "name": "python3"
  },
  "language_info": {
   "codemirror_mode": {
    "name": "ipython",
    "version": 3
   },
   "file_extension": ".py",
   "mimetype": "text/x-python",
   "name": "python",
   "nbconvert_exporter": "python",
   "pygments_lexer": "ipython3",
   "version": "3.9.12"
  }
 },
 "nbformat": 4,
 "nbformat_minor": 5
}
